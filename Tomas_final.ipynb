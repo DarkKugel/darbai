{
 "cells": [
  {
   "cell_type": "markdown",
   "metadata": {},
   "source": [
    "# Recurrent Neural Networks\n",
    "\n",
    "### Practical Session\n",
    "\n",
    "<br/> Prof. Dr. Georgios K. Ouzounis\n",
    "<br/> email: georgios.ouzounis@go.kauko.lt\n",
    "\n",
    "<br/> Student Tomas Radžiūnas\n",
    "<br/> email: tomas.ra9418@go.kauko.lt"
   ]
  },
  {
   "cell_type": "markdown",
   "metadata": {},
   "source": [
    "## Contents\n",
    "\n",
    "1. Data loading and pre-processing\n",
    "2. Building the RNN\n",
    "3. Train and deploy the RNN\n",
    "4. Improving the RNN"
   ]
  },
  {
   "cell_type": "markdown",
   "metadata": {},
   "source": [
    "Using a 10-year history of the Microsoft Stock prices, we are going to predict the stock values for the most recent month that is not included in the historical data."
   ]
  },
  {
   "cell_type": "markdown",
   "metadata": {},
   "source": [
    "## Data loading and pre-processing"
   ]
  },
  {
   "cell_type": "markdown",
   "metadata": {},
   "source": [
    "### Download the data-sets\n",
    "\n",
    "The data-sets are two comma-separated values files (CSV) and contain a data table of 2538 records for training and a table of 22 records for testing.\n",
    "\n",
    "We download these from finance.yahoo.com and then upload them to our github repository.\n",
    "\n",
    "**Microsoft_Stock_Price_Test.csv** and **Microsoft_Stock_Price_Train.csv**\n",
    "\n",
    "We then download them using the wget command in the terminal\n",
    "\n",
    "```shell\n",
    "wget https://raw.githubusercontent.com/Eimantas1337/assignment/main/Microsoft_Stock_Price_Test.csv\n",
    "\n",
    "wget https://raw.githubusercontent.com/Eimantas1337/assignment/main/Microsoft_Stock_Price_Train.csv\n",
    "```"
   ]
  },
  {
   "cell_type": "markdown",
   "metadata": {},
   "source": [
    "### Import libraries\n",
    "\n",
    "We need 3 main libraries:\n",
    "\n",
    "- [Numpy](http://www.numpy.org): it is the fundamental package for scientific computing with Python. It contains among other things a powerful N-dimensional array object that can be used as an efficient multi-dimensional container of generic data. Arbitrary data-types can be defined.\n",
    "- [matplotlib](https://matplotlib.org):  it is a Python 2D plotting library which produces publication quality figures in a variety of hardcopy formats and interactive environments across platforms.\n",
    "- [pandas](https://pandas.pydata.org): is a software library written for the Python programming language for data manipulation and analysis. In particular, it offers data structures and operations for manipulating numerical tables and time series."
   ]
  },
  {
   "cell_type": "code",
   "execution_count": 1,
   "metadata": {},
   "outputs": [],
   "source": [
    "# importing the libraries\n",
    "import numpy as np\n",
    "import matplotlib.pyplot as plt\n",
    "import pandas as pd"
   ]
  },
  {
   "cell_type": "markdown",
   "metadata": {},
   "source": [
    "### Import the dataset"
   ]
  },
  {
   "cell_type": "markdown",
   "metadata": {},
   "source": [
    "We load the relevant files containing 10 years of stock prices of Microsoft from 2009 to 2019.\n"
   ]
  },
  {
   "cell_type": "code",
   "execution_count": 2,
   "metadata": {},
   "outputs": [],
   "source": [
    "#importing the dataset\n",
    "\n",
    "# load the training file contents \n",
    "dataset_train = pd.read_csv('Microsoft_Stock_Price_Train.csv')"
   ]
  },
  {
   "cell_type": "code",
   "execution_count": 3,
   "metadata": {},
   "outputs": [
    {
     "data": {
      "text/html": [
       "<div>\n",
       "<style scoped>\n",
       "    .dataframe tbody tr th:only-of-type {\n",
       "        vertical-align: middle;\n",
       "    }\n",
       "\n",
       "    .dataframe tbody tr th {\n",
       "        vertical-align: top;\n",
       "    }\n",
       "\n",
       "    .dataframe thead th {\n",
       "        text-align: right;\n",
       "    }\n",
       "</style>\n",
       "<table border=\"1\" class=\"dataframe\">\n",
       "  <thead>\n",
       "    <tr style=\"text-align: right;\">\n",
       "      <th></th>\n",
       "      <th>Date</th>\n",
       "      <th>Open</th>\n",
       "      <th>High</th>\n",
       "      <th>Low</th>\n",
       "      <th>Close</th>\n",
       "      <th>Adj Close</th>\n",
       "      <th>Volume</th>\n",
       "    </tr>\n",
       "  </thead>\n",
       "  <tbody>\n",
       "    <tr>\n",
       "      <th>0</th>\n",
       "      <td>2009-07-01</td>\n",
       "      <td>24.049999</td>\n",
       "      <td>24.299999</td>\n",
       "      <td>23.959999</td>\n",
       "      <td>24.040001</td>\n",
       "      <td>18.585423</td>\n",
       "      <td>54908400</td>\n",
       "    </tr>\n",
       "    <tr>\n",
       "      <th>1</th>\n",
       "      <td>2009-07-02</td>\n",
       "      <td>23.760000</td>\n",
       "      <td>24.040001</td>\n",
       "      <td>23.209999</td>\n",
       "      <td>23.370001</td>\n",
       "      <td>18.067444</td>\n",
       "      <td>65422200</td>\n",
       "    </tr>\n",
       "    <tr>\n",
       "      <th>2</th>\n",
       "      <td>2009-07-06</td>\n",
       "      <td>23.209999</td>\n",
       "      <td>23.280001</td>\n",
       "      <td>22.870001</td>\n",
       "      <td>23.200001</td>\n",
       "      <td>17.936018</td>\n",
       "      <td>49207700</td>\n",
       "    </tr>\n",
       "    <tr>\n",
       "      <th>3</th>\n",
       "      <td>2009-07-07</td>\n",
       "      <td>23.080000</td>\n",
       "      <td>23.139999</td>\n",
       "      <td>22.459999</td>\n",
       "      <td>22.530001</td>\n",
       "      <td>17.418032</td>\n",
       "      <td>52842500</td>\n",
       "    </tr>\n",
       "    <tr>\n",
       "      <th>4</th>\n",
       "      <td>2009-07-08</td>\n",
       "      <td>22.309999</td>\n",
       "      <td>22.690001</td>\n",
       "      <td>22.000000</td>\n",
       "      <td>22.559999</td>\n",
       "      <td>17.441227</td>\n",
       "      <td>73023400</td>\n",
       "    </tr>\n",
       "  </tbody>\n",
       "</table>\n",
       "</div>"
      ],
      "text/plain": [
       "         Date       Open       High        Low      Close  Adj Close    Volume\n",
       "0  2009-07-01  24.049999  24.299999  23.959999  24.040001  18.585423  54908400\n",
       "1  2009-07-02  23.760000  24.040001  23.209999  23.370001  18.067444  65422200\n",
       "2  2009-07-06  23.209999  23.280001  22.870001  23.200001  17.936018  49207700\n",
       "3  2009-07-07  23.080000  23.139999  22.459999  22.530001  17.418032  52842500\n",
       "4  2009-07-08  22.309999  22.690001  22.000000  22.559999  17.441227  73023400"
      ]
     },
     "execution_count": 3,
     "metadata": {},
     "output_type": "execute_result"
    }
   ],
   "source": [
    "dataset_train.head()"
   ]
  },
  {
   "cell_type": "code",
   "execution_count": 4,
   "metadata": {},
   "outputs": [],
   "source": [
    "# Create a subtable of relevant entries (open values)\n",
    "# The .values makes this vector a numpy array\n",
    "training_set = dataset_train.iloc[:, 1:2].values "
   ]
  },
  {
   "cell_type": "code",
   "execution_count": 5,
   "metadata": {},
   "outputs": [
    {
     "data": {
      "text/plain": [
       "array([[ 24.049999],\n",
       "       [ 23.76    ],\n",
       "       [ 23.209999],\n",
       "       ...,\n",
       "       [140.369995],\n",
       "       [141.5     ],\n",
       "       [140.139999]])"
      ]
     },
     "execution_count": 5,
     "metadata": {},
     "output_type": "execute_result"
    }
   ],
   "source": [
    "training_set"
   ]
  },
  {
   "cell_type": "markdown",
   "metadata": {},
   "source": [
    "### Feature Scaling\n",
    "\n",
    "Next we need to rescale our data to the range from 0 to 1. \n",
    "\n",
    "Feature scaling is essential as discussed if the Features lecture and needs to be applied to both the training and test sets.\n",
    "\n",
    "It is computed using the ScikitLearn library [MinMaxScaler()](http://scikit-learn.org/stable/modules/generated/sklearn.preprocessing.MinMaxScaler.html#sklearn.preprocessing.MinMaxScaler) which transforms the selected feature by scaling it to a given range. If more than one, this estimator scales and translates each feature individually such that it is in the given range on the training set, i.e. between zero and one."
   ]
  },
  {
   "cell_type": "code",
   "execution_count": 6,
   "metadata": {},
   "outputs": [],
   "source": [
    "# Feature Scaling\n",
    "\n",
    "# import the MinMaxScaler\n",
    "from sklearn.preprocessing import MinMaxScaler"
   ]
  },
  {
   "cell_type": "code",
   "execution_count": 7,
   "metadata": {},
   "outputs": [],
   "source": [
    "# create a scaler instance to rescale all data to the range of 0.0 to 1.0 \n",
    "sc = MinMaxScaler(feature_range = (0, 1))"
   ]
  },
  {
   "cell_type": "code",
   "execution_count": 8,
   "metadata": {},
   "outputs": [],
   "source": [
    "# create the actual training set of scaled values\n",
    "training_set_scaled = sc.fit_transform(training_set)"
   ]
  },
  {
   "cell_type": "code",
   "execution_count": 9,
   "metadata": {},
   "outputs": [
    {
     "data": {
      "text/plain": [
       "array([[0.01558962],\n",
       "       [0.01315899],\n",
       "       [0.00854914],\n",
       "       ...,\n",
       "       [0.99052883],\n",
       "       [1.        ],\n",
       "       [0.98860111]])"
      ]
     },
     "execution_count": 9,
     "metadata": {},
     "output_type": "execute_result"
    }
   ],
   "source": [
    "training_set_scaled"
   ]
  },
  {
   "cell_type": "markdown",
   "metadata": {},
   "source": [
    "### Splitting the training set to dependent and independent variables"
   ]
  },
  {
   "cell_type": "code",
   "execution_count": 10,
   "metadata": {},
   "outputs": [],
   "source": [
    "# Creating a data structure with 90 timesteps and 1 output\n",
    "\n",
    "# the 90 stock prices in the last 3 months before today\n",
    "X_train = [] "
   ]
  },
  {
   "cell_type": "code",
   "execution_count": 11,
   "metadata": {},
   "outputs": [
    {
     "data": {
      "text/plain": [
       "(2537, 1)"
      ]
     },
     "execution_count": 11,
     "metadata": {},
     "output_type": "execute_result"
    }
   ],
   "source": [
    "training_set_scaled.shape"
   ]
  },
  {
   "cell_type": "code",
   "execution_count": 12,
   "metadata": {},
   "outputs": [],
   "source": [
    "# the stock price today\n",
    "y_train = [] "
   ]
  },
  {
   "cell_type": "code",
   "execution_count": 13,
   "metadata": {},
   "outputs": [],
   "source": [
    "# we start from day 90 because that is the first instance allowing us to \n",
    "# go back 90 days. we also change the range to 2537, because we have 2537 records in our 10 year dataset\n",
    "for i in range(90, 2537): \n",
    "    # 0 is the column ID, the only column in this case.    \n",
    "    # put the last 90 days values in one row of X_train\n",
    "    X_train.append(training_set_scaled[i-90:i, 0]) \n",
    "    y_train.append(training_set_scaled[i, 0])\n"
   ]
  },
  {
   "cell_type": "code",
   "execution_count": 14,
   "metadata": {},
   "outputs": [],
   "source": [
    "X_train, y_train = np.array(X_train), np.array(y_train)"
   ]
  },
  {
   "cell_type": "code",
   "execution_count": 15,
   "metadata": {},
   "outputs": [
    {
     "data": {
      "text/plain": [
       "array([[0.01558962, 0.01315899, 0.00854914, ..., 0.04567931, 0.0460984 ,\n",
       "        0.05305506],\n",
       "       [0.01315899, 0.00854914, 0.00745955, ..., 0.0460984 , 0.05305506,\n",
       "        0.05188164],\n",
       "       [0.00854914, 0.00745955, 0.00100577, ..., 0.05305506, 0.05188164,\n",
       "        0.05389322],\n",
       "       ...,\n",
       "       [0.80378842, 0.79792137, 0.79582599, ..., 0.9854161 , 0.97820798,\n",
       "        0.99103171],\n",
       "       [0.79792137, 0.79582599, 0.8156064 , ..., 0.97820798, 0.99103171,\n",
       "        0.99052883],\n",
       "       [0.79582599, 0.8156064 , 0.7909647 , ..., 0.99103171, 0.99052883,\n",
       "        1.        ]])"
      ]
     },
     "execution_count": 15,
     "metadata": {},
     "output_type": "execute_result"
    }
   ],
   "source": [
    "X_train"
   ]
  },
  {
   "cell_type": "markdown",
   "metadata": {},
   "source": [
    "### Reshaping the Matrix\n",
    "\n",
    "We need to add a new matrix dimension to accommodate the indicator (predictor). \n",
    "\n",
    "NumPy matrices are tensors (3D) and essentially we need to specify that our matrix consists of **90 days** (dimension x) times **total days in data set** (dimension y) times **1 value per matrix cell (scalar)** (dimension z)"
   ]
  },
  {
   "cell_type": "code",
   "execution_count": 16,
   "metadata": {},
   "outputs": [],
   "source": [
    "# Reshaping the data matrix, we retain the 2 original dimensions and add a third of depth=1\n",
    "X_train = np.reshape(X_train, (X_train.shape[0], X_train.shape[1], 1))"
   ]
  },
  {
   "cell_type": "markdown",
   "metadata": {},
   "source": [
    "## Building the RNN"
   ]
  },
  {
   "cell_type": "markdown",
   "metadata": {},
   "source": [
    "### Downloading keras and initializing the RNN\n",
    "\n",
    "We put <b>pip3 install keras</b> in our terminal to download keras for this task.\n",
    "\n",
    "Using Keras, that we installed earlier, we are going to import the sequential model, dense layer template and the LTSM model from the Keras API and we are going to create an instance of the sequential model called regressor because we want to predict a continious value."
   ]
  },
  {
   "cell_type": "code",
   "execution_count": 17,
   "metadata": {},
   "outputs": [],
   "source": [
    "# Importing the Keras libraries and packages\n",
    "from keras.models import Sequential\n",
    "from keras.layers import Dense\n",
    "from keras.layers import LSTM\n",
    "from keras.layers import Dropout"
   ]
  },
  {
   "cell_type": "code",
   "execution_count": 18,
   "metadata": {},
   "outputs": [],
   "source": [
    "# Initialising the RNN as a sequence of layers\n",
    "regressor = Sequential()"
   ]
  },
  {
   "cell_type": "markdown",
   "metadata": {},
   "source": [
    "### Add First Layer\n",
    "\n",
    "We first add an object of the LSTM class! \n",
    "\n",
    "- The first argument is the number of units or LSTM memory cells. Include many neurons to address the high dimensionality of the problem; say 50 neurons! \n",
    "- Second arg: return sequences = true; stacked LSTM !\n",
    "- Third arg: input 3D shape: observations vs time steps vs number of indicators"
   ]
  },
  {
   "cell_type": "code",
   "execution_count": 19,
   "metadata": {},
   "outputs": [],
   "source": [
    "# Adding the input layer and the LSTM layer\n",
    "regressor.add(LSTM(units = 50, return_sequences = True, input_shape =  (X_train.shape[1], 1)))"
   ]
  },
  {
   "cell_type": "code",
   "execution_count": 20,
   "metadata": {},
   "outputs": [],
   "source": [
    "# the argument is the dropout rate to ignore in the layers (20%), \n",
    "# i.e. 50 units * 20% = 10 units will be dropped each time\n",
    "regressor.add(Dropout(0.2))\n"
   ]
  },
  {
   "cell_type": "markdown",
   "metadata": {},
   "source": [
    "### Add More Layers\n",
    "\n",
    "We can add more LSTM layers but along with Dropout regularization to make sure we avoid overfitting! \n",
    "\n",
    "We don’t need to add the shape of the layer again because it is recognized automatically from the number of input units.\n",
    "\n",
    "The last layer does not return a sequence but connected directly to a fully connected output layer.\n"
   ]
  },
  {
   "cell_type": "code",
   "execution_count": 21,
   "metadata": {},
   "outputs": [],
   "source": [
    "# Adding a second LSTM layer and some Dropout regularisation\n",
    "regressor.add(LSTM(units = 50, return_sequences = True))\n",
    "regressor.add(Dropout(0.2))"
   ]
  },
  {
   "cell_type": "code",
   "execution_count": 22,
   "metadata": {},
   "outputs": [],
   "source": [
    "# Adding a third LSTM layer and some Dropout regularisation\n",
    "regressor.add(LSTM(units = 50, return_sequences = True))\n",
    "regressor.add(Dropout(0.2))"
   ]
  },
  {
   "cell_type": "code",
   "execution_count": 23,
   "metadata": {},
   "outputs": [],
   "source": [
    "# Adding a fourth LSTM layer and some Dropout regularisation\n",
    "# we removed the return_sequences because we no longer return a \n",
    "# sequence but a value instead\n",
    "regressor.add(LSTM(units = 50))\n",
    "regressor.add(Dropout(0.2))"
   ]
  },
  {
   "cell_type": "markdown",
   "metadata": {},
   "source": [
    "### Add Output Layer & Compile\n",
    "\n",
    "The output has 1 dimension , i.e. one value to be predicted thus or output fully connected layer has dimensionality = 1.\n",
    "\n",
    "- **Optimizer**: rmsprop is recommended in the Keras documentation. The Adam optimizer is also a powerful choice.\n",
    "- **Loss function**: regression problems take the mean square error as most common"
   ]
  },
  {
   "cell_type": "code",
   "execution_count": 24,
   "metadata": {},
   "outputs": [],
   "source": [
    "# Adding the output layer\n",
    "regressor.add(Dense(units = 1))"
   ]
  },
  {
   "cell_type": "code",
   "execution_count": 25,
   "metadata": {},
   "outputs": [],
   "source": [
    "# Compiling the RNN\n",
    "regressor.compile(optimizer = 'adam', loss = 'mean_squared_error')"
   ]
  },
  {
   "cell_type": "markdown",
   "metadata": {},
   "source": [
    "## Train and deploy the RNN"
   ]
  },
  {
   "cell_type": "markdown",
   "metadata": {},
   "source": [
    "### Fit the RNN to the Training set\n",
    "\n",
    "Now we train our RNN using the data in our training set and ground truth. We also have a couple of parameters that we could specify:\n",
    "\n",
    "- **Batch size**:  update the cell weights not on every stock price on every batch_size values; \n",
    "- **Number of epochs**: how many iterations to be used, i.e. number of forward and backward propagations for the update of the weights\n"
   ]
  },
  {
   "cell_type": "code",
   "execution_count": 26,
   "metadata": {},
   "outputs": [
    {
     "name": "stdout",
     "output_type": "stream",
     "text": [
      "Epoch 1/100\n",
      "77/77 [==============================] - 10s 130ms/step - loss: 0.0092\n",
      "Epoch 2/100\n",
      "77/77 [==============================] - 10s 127ms/step - loss: 0.0017\n",
      "Epoch 3/100\n",
      "77/77 [==============================] - 10s 126ms/step - loss: 0.0016\n",
      "Epoch 4/100\n",
      "77/77 [==============================] - 10s 126ms/step - loss: 0.0013\n",
      "Epoch 5/100\n",
      "77/77 [==============================] - 10s 125ms/step - loss: 0.0012\n",
      "Epoch 6/100\n",
      "77/77 [==============================] - 10s 125ms/step - loss: 0.0017\n",
      "Epoch 7/100\n",
      "77/77 [==============================] - 10s 124ms/step - loss: 0.0015\n",
      "Epoch 8/100\n",
      "77/77 [==============================] - 10s 125ms/step - loss: 0.0011\n",
      "Epoch 9/100\n",
      "77/77 [==============================] - 10s 125ms/step - loss: 0.0013\n",
      "Epoch 10/100\n",
      "77/77 [==============================] - 10s 125ms/step - loss: 0.0012\n",
      "Epoch 11/100\n",
      "77/77 [==============================] - 10s 125ms/step - loss: 0.0014\n",
      "Epoch 12/100\n",
      "77/77 [==============================] - 10s 125ms/step - loss: 0.0012\n",
      "Epoch 13/100\n",
      "77/77 [==============================] - 10s 125ms/step - loss: 0.0010\n",
      "Epoch 14/100\n",
      "77/77 [==============================] - 10s 130ms/step - loss: 0.0011\n",
      "Epoch 15/100\n",
      "77/77 [==============================] - 10s 135ms/step - loss: 0.0012\n",
      "Epoch 16/100\n",
      "77/77 [==============================] - 12s 162ms/step - loss: 8.9236e-04\n",
      "Epoch 17/100\n",
      "77/77 [==============================] - 11s 143ms/step - loss: 0.0012\n",
      "Epoch 18/100\n",
      "77/77 [==============================] - 11s 138ms/step - loss: 0.0010\n",
      "Epoch 19/100\n",
      "77/77 [==============================] - 10s 126ms/step - loss: 0.0012\n",
      "Epoch 20/100\n",
      "77/77 [==============================] - 11s 141ms/step - loss: 9.1363e-04\n",
      "Epoch 21/100\n",
      "77/77 [==============================] - 10s 135ms/step - loss: 9.2280e-04\n",
      "Epoch 22/100\n",
      "77/77 [==============================] - 10s 127ms/step - loss: 8.8396e-04\n",
      "Epoch 23/100\n",
      "77/77 [==============================] - 10s 133ms/step - loss: 9.0922e-04\n",
      "Epoch 24/100\n",
      "77/77 [==============================] - 10s 133ms/step - loss: 0.0010\n",
      "Epoch 25/100\n",
      "77/77 [==============================] - 11s 141ms/step - loss: 9.5842e-04\n",
      "Epoch 26/100\n",
      "77/77 [==============================] - 14s 185ms/step - loss: 9.0868e-04\n",
      "Epoch 27/100\n",
      "77/77 [==============================] - 11s 149ms/step - loss: 9.9790e-04\n",
      "Epoch 28/100\n",
      "77/77 [==============================] - 14s 183ms/step - loss: 8.9825e-04\n",
      "Epoch 29/100\n",
      "77/77 [==============================] - 13s 170ms/step - loss: 8.9491e-04\n",
      "Epoch 30/100\n",
      "77/77 [==============================] - 12s 155ms/step - loss: 9.1186e-04\n",
      "Epoch 31/100\n",
      "77/77 [==============================] - 12s 158ms/step - loss: 8.7660e-04\n",
      "Epoch 32/100\n",
      "77/77 [==============================] - 11s 149ms/step - loss: 8.4982e-04\n",
      "Epoch 33/100\n",
      "77/77 [==============================] - 11s 147ms/step - loss: 7.9162e-04\n",
      "Epoch 34/100\n",
      "77/77 [==============================] - 12s 151ms/step - loss: 8.0643e-04\n",
      "Epoch 35/100\n",
      "77/77 [==============================] - 11s 139ms/step - loss: 8.9313e-04\n",
      "Epoch 36/100\n",
      "77/77 [==============================] - 11s 146ms/step - loss: 7.5318e-04\n",
      "Epoch 37/100\n",
      "77/77 [==============================] - 12s 150ms/step - loss: 0.0011\n",
      "Epoch 38/100\n",
      "77/77 [==============================] - 12s 151ms/step - loss: 8.1611e-04\n",
      "Epoch 39/100\n",
      "77/77 [==============================] - 11s 143ms/step - loss: 7.4611e-04\n",
      "Epoch 40/100\n",
      "77/77 [==============================] - 12s 156ms/step - loss: 7.9589e-04\n",
      "Epoch 41/100\n",
      "77/77 [==============================] - 12s 162ms/step - loss: 8.0000e-04\n",
      "Epoch 42/100\n",
      "77/77 [==============================] - 12s 151ms/step - loss: 8.0916e-04\n",
      "Epoch 43/100\n",
      "77/77 [==============================] - 11s 145ms/step - loss: 6.8288e-04\n",
      "Epoch 44/100\n",
      "77/77 [==============================] - 12s 150ms/step - loss: 7.8040e-04\n",
      "Epoch 45/100\n",
      "77/77 [==============================] - 12s 157ms/step - loss: 7.2974e-04\n",
      "Epoch 46/100\n",
      "77/77 [==============================] - 12s 151ms/step - loss: 7.8862e-04\n",
      "Epoch 47/100\n",
      "77/77 [==============================] - 12s 152ms/step - loss: 6.9146e-04\n",
      "Epoch 48/100\n",
      "77/77 [==============================] - 11s 141ms/step - loss: 7.5773e-04\n",
      "Epoch 49/100\n",
      "77/77 [==============================] - 11s 145ms/step - loss: 7.8827e-04\n",
      "Epoch 50/100\n",
      "77/77 [==============================] - 11s 142ms/step - loss: 7.2037e-04\n",
      "Epoch 51/100\n",
      "77/77 [==============================] - 12s 150ms/step - loss: 7.0374e-04\n",
      "Epoch 52/100\n",
      "77/77 [==============================] - 11s 148ms/step - loss: 7.3460e-04\n",
      "Epoch 53/100\n",
      "77/77 [==============================] - 12s 153ms/step - loss: 7.1720e-04\n",
      "Epoch 54/100\n",
      "77/77 [==============================] - 12s 156ms/step - loss: 7.2549e-04\n",
      "Epoch 55/100\n",
      "77/77 [==============================] - 11s 147ms/step - loss: 6.8460e-04\n",
      "Epoch 56/100\n",
      "77/77 [==============================] - 12s 160ms/step - loss: 6.7627e-04\n",
      "Epoch 57/100\n",
      "77/77 [==============================] - 12s 153ms/step - loss: 6.8658e-04\n",
      "Epoch 58/100\n",
      "77/77 [==============================] - 11s 147ms/step - loss: 6.5884e-04\n",
      "Epoch 59/100\n",
      "77/77 [==============================] - 11s 147ms/step - loss: 6.6599e-04\n",
      "Epoch 60/100\n",
      "77/77 [==============================] - 11s 145ms/step - loss: 5.8598e-04\n",
      "Epoch 61/100\n",
      "77/77 [==============================] - 11s 142ms/step - loss: 6.4294e-04\n",
      "Epoch 62/100\n",
      "77/77 [==============================] - 12s 161ms/step - loss: 8.0911e-04\n",
      "Epoch 63/100\n",
      "77/77 [==============================] - 12s 153ms/step - loss: 6.7155e-04\n",
      "Epoch 64/100\n",
      "77/77 [==============================] - 12s 150ms/step - loss: 6.6390e-04\n",
      "Epoch 65/100\n",
      "77/77 [==============================] - 11s 138ms/step - loss: 6.6962e-04\n",
      "Epoch 66/100\n",
      "77/77 [==============================] - 10s 130ms/step - loss: 6.9623e-04\n",
      "Epoch 67/100\n",
      "77/77 [==============================] - 10s 134ms/step - loss: 6.1358e-04\n",
      "Epoch 68/100\n",
      "77/77 [==============================] - 10s 134ms/step - loss: 6.4257e-04\n",
      "Epoch 69/100\n",
      "77/77 [==============================] - 12s 152ms/step - loss: 7.6365e-04\n",
      "Epoch 70/100\n",
      "77/77 [==============================] - 11s 147ms/step - loss: 7.8964e-04\n",
      "Epoch 71/100\n",
      "77/77 [==============================] - 12s 157ms/step - loss: 6.3537e-04\n",
      "Epoch 72/100\n",
      "77/77 [==============================] - 11s 144ms/step - loss: 5.7473e-04\n",
      "Epoch 73/100\n",
      "77/77 [==============================] - 11s 146ms/step - loss: 6.2303e-04\n",
      "Epoch 74/100\n",
      "77/77 [==============================] - 11s 149ms/step - loss: 7.8176e-04\n",
      "Epoch 75/100\n",
      "77/77 [==============================] - 11s 149ms/step - loss: 7.9283e-04\n",
      "Epoch 76/100\n",
      "77/77 [==============================] - 12s 153ms/step - loss: 6.5585e-04\n",
      "Epoch 77/100\n",
      "77/77 [==============================] - 11s 146ms/step - loss: 5.7694e-04\n",
      "Epoch 78/100\n",
      "77/77 [==============================] - 11s 137ms/step - loss: 6.5783e-04\n",
      "Epoch 79/100\n",
      "77/77 [==============================] - 11s 145ms/step - loss: 6.2304e-04\n",
      "Epoch 80/100\n",
      "77/77 [==============================] - 11s 138ms/step - loss: 5.7418e-04\n",
      "Epoch 81/100\n",
      "77/77 [==============================] - 11s 141ms/step - loss: 6.3082e-04\n",
      "Epoch 82/100\n",
      "77/77 [==============================] - 11s 142ms/step - loss: 6.0988e-04\n",
      "Epoch 83/100\n",
      "77/77 [==============================] - 11s 140ms/step - loss: 6.3994e-04\n",
      "Epoch 84/100\n",
      "77/77 [==============================] - 12s 153ms/step - loss: 6.7512e-04\n",
      "Epoch 85/100\n",
      "77/77 [==============================] - 11s 139ms/step - loss: 7.1666e-04\n",
      "Epoch 86/100\n",
      "77/77 [==============================] - 11s 148ms/step - loss: 6.0645e-04\n",
      "Epoch 87/100\n",
      "77/77 [==============================] - 12s 150ms/step - loss: 6.6551e-04\n",
      "Epoch 88/100\n",
      "77/77 [==============================] - 11s 138ms/step - loss: 5.7000e-04\n",
      "Epoch 89/100\n",
      "77/77 [==============================] - 11s 147ms/step - loss: 5.8380e-04\n",
      "Epoch 90/100\n",
      "77/77 [==============================] - 11s 146ms/step - loss: 6.1939e-04\n",
      "Epoch 91/100\n",
      "77/77 [==============================] - 11s 140ms/step - loss: 6.3811e-04\n",
      "Epoch 92/100\n",
      "77/77 [==============================] - 11s 138ms/step - loss: 7.0052e-04\n",
      "Epoch 93/100\n",
      "77/77 [==============================] - 11s 140ms/step - loss: 6.3099e-04\n",
      "Epoch 94/100\n",
      "77/77 [==============================] - 12s 156ms/step - loss: 6.1525e-04\n",
      "Epoch 95/100\n",
      "77/77 [==============================] - 12s 150ms/step - loss: 5.6833e-04\n",
      "Epoch 96/100\n",
      "77/77 [==============================] - 11s 139ms/step - loss: 6.7665e-04\n",
      "Epoch 97/100\n",
      "77/77 [==============================] - 12s 154ms/step - loss: 6.0569e-04\n",
      "Epoch 98/100\n",
      "77/77 [==============================] - 11s 146ms/step - loss: 5.0629e-04\n",
      "Epoch 99/100\n",
      "77/77 [==============================] - 11s 142ms/step - loss: 5.4657e-04\n",
      "Epoch 100/100\n",
      "77/77 [==============================] - 11s 144ms/step - loss: 5.2319e-04\n"
     ]
    },
    {
     "data": {
      "text/plain": [
       "<tensorflow.python.keras.callbacks.History at 0x7f71802456d0>"
      ]
     },
     "execution_count": 26,
     "metadata": {},
     "output_type": "execute_result"
    }
   ],
   "source": [
    "# Fitting the RNN to the Training set\n",
    "regressor.fit(X_train, y_train, epochs = 100, batch_size = 32)"
   ]
  },
  {
   "cell_type": "markdown",
   "metadata": {},
   "source": [
    "### Computing Predictions\n",
    "\n",
    "Now I create a data-frame by impoting the Microsoft Stock Price Test set for August 2019 using pandas and I make it a numpy array.\n"
   ]
  },
  {
   "cell_type": "code",
   "execution_count": 27,
   "metadata": {},
   "outputs": [
    {
     "data": {
      "text/html": [
       "<div>\n",
       "<style scoped>\n",
       "    .dataframe tbody tr th:only-of-type {\n",
       "        vertical-align: middle;\n",
       "    }\n",
       "\n",
       "    .dataframe tbody tr th {\n",
       "        vertical-align: top;\n",
       "    }\n",
       "\n",
       "    .dataframe thead th {\n",
       "        text-align: right;\n",
       "    }\n",
       "</style>\n",
       "<table border=\"1\" class=\"dataframe\">\n",
       "  <thead>\n",
       "    <tr style=\"text-align: right;\">\n",
       "      <th></th>\n",
       "      <th>Date</th>\n",
       "      <th>Open</th>\n",
       "      <th>High</th>\n",
       "      <th>Low</th>\n",
       "      <th>Close</th>\n",
       "      <th>Adj Close</th>\n",
       "      <th>Volume</th>\n",
       "    </tr>\n",
       "  </thead>\n",
       "  <tbody>\n",
       "    <tr>\n",
       "      <th>0</th>\n",
       "      <td>2019-08-01</td>\n",
       "      <td>137.000000</td>\n",
       "      <td>140.940002</td>\n",
       "      <td>136.929993</td>\n",
       "      <td>138.059998</td>\n",
       "      <td>136.052872</td>\n",
       "      <td>40557500</td>\n",
       "    </tr>\n",
       "    <tr>\n",
       "      <th>1</th>\n",
       "      <td>2019-08-02</td>\n",
       "      <td>138.089996</td>\n",
       "      <td>138.320007</td>\n",
       "      <td>135.259995</td>\n",
       "      <td>136.899994</td>\n",
       "      <td>134.909729</td>\n",
       "      <td>30791600</td>\n",
       "    </tr>\n",
       "    <tr>\n",
       "      <th>2</th>\n",
       "      <td>2019-08-05</td>\n",
       "      <td>133.300003</td>\n",
       "      <td>133.929993</td>\n",
       "      <td>130.779999</td>\n",
       "      <td>132.210007</td>\n",
       "      <td>130.287949</td>\n",
       "      <td>42749600</td>\n",
       "    </tr>\n",
       "    <tr>\n",
       "      <th>3</th>\n",
       "      <td>2019-08-06</td>\n",
       "      <td>133.800003</td>\n",
       "      <td>135.679993</td>\n",
       "      <td>133.210007</td>\n",
       "      <td>134.690002</td>\n",
       "      <td>132.731888</td>\n",
       "      <td>32696700</td>\n",
       "    </tr>\n",
       "    <tr>\n",
       "      <th>4</th>\n",
       "      <td>2019-08-07</td>\n",
       "      <td>133.789993</td>\n",
       "      <td>135.649994</td>\n",
       "      <td>131.830002</td>\n",
       "      <td>135.279999</td>\n",
       "      <td>133.313278</td>\n",
       "      <td>33414500</td>\n",
       "    </tr>\n",
       "    <tr>\n",
       "      <th>5</th>\n",
       "      <td>2019-08-08</td>\n",
       "      <td>136.600006</td>\n",
       "      <td>138.990005</td>\n",
       "      <td>135.929993</td>\n",
       "      <td>138.889999</td>\n",
       "      <td>136.870834</td>\n",
       "      <td>27496500</td>\n",
       "    </tr>\n",
       "    <tr>\n",
       "      <th>6</th>\n",
       "      <td>2019-08-09</td>\n",
       "      <td>138.610001</td>\n",
       "      <td>139.380005</td>\n",
       "      <td>136.460007</td>\n",
       "      <td>137.710007</td>\n",
       "      <td>135.707993</td>\n",
       "      <td>23466700</td>\n",
       "    </tr>\n",
       "    <tr>\n",
       "      <th>7</th>\n",
       "      <td>2019-08-12</td>\n",
       "      <td>137.070007</td>\n",
       "      <td>137.860001</td>\n",
       "      <td>135.240005</td>\n",
       "      <td>135.789993</td>\n",
       "      <td>133.815887</td>\n",
       "      <td>20476600</td>\n",
       "    </tr>\n",
       "    <tr>\n",
       "      <th>8</th>\n",
       "      <td>2019-08-13</td>\n",
       "      <td>136.050003</td>\n",
       "      <td>138.800003</td>\n",
       "      <td>135.000000</td>\n",
       "      <td>138.600006</td>\n",
       "      <td>136.585052</td>\n",
       "      <td>25154600</td>\n",
       "    </tr>\n",
       "    <tr>\n",
       "      <th>9</th>\n",
       "      <td>2019-08-14</td>\n",
       "      <td>136.360001</td>\n",
       "      <td>136.919998</td>\n",
       "      <td>133.669998</td>\n",
       "      <td>133.979996</td>\n",
       "      <td>132.471863</td>\n",
       "      <td>32527300</td>\n",
       "    </tr>\n",
       "    <tr>\n",
       "      <th>10</th>\n",
       "      <td>2019-08-15</td>\n",
       "      <td>134.389999</td>\n",
       "      <td>134.580002</td>\n",
       "      <td>132.250000</td>\n",
       "      <td>133.679993</td>\n",
       "      <td>132.175247</td>\n",
       "      <td>28074400</td>\n",
       "    </tr>\n",
       "    <tr>\n",
       "      <th>11</th>\n",
       "      <td>2019-08-16</td>\n",
       "      <td>134.880005</td>\n",
       "      <td>136.460007</td>\n",
       "      <td>134.720001</td>\n",
       "      <td>136.130005</td>\n",
       "      <td>134.597687</td>\n",
       "      <td>24449100</td>\n",
       "    </tr>\n",
       "    <tr>\n",
       "      <th>12</th>\n",
       "      <td>2019-08-19</td>\n",
       "      <td>137.850006</td>\n",
       "      <td>138.550003</td>\n",
       "      <td>136.889999</td>\n",
       "      <td>138.410004</td>\n",
       "      <td>136.852020</td>\n",
       "      <td>24355700</td>\n",
       "    </tr>\n",
       "    <tr>\n",
       "      <th>13</th>\n",
       "      <td>2019-08-20</td>\n",
       "      <td>138.210007</td>\n",
       "      <td>138.710007</td>\n",
       "      <td>137.240005</td>\n",
       "      <td>137.259995</td>\n",
       "      <td>135.714951</td>\n",
       "      <td>21170800</td>\n",
       "    </tr>\n",
       "    <tr>\n",
       "      <th>14</th>\n",
       "      <td>2019-08-21</td>\n",
       "      <td>138.550003</td>\n",
       "      <td>139.490005</td>\n",
       "      <td>138.000000</td>\n",
       "      <td>138.789993</td>\n",
       "      <td>137.227707</td>\n",
       "      <td>14970300</td>\n",
       "    </tr>\n",
       "    <tr>\n",
       "      <th>15</th>\n",
       "      <td>2019-08-22</td>\n",
       "      <td>138.660004</td>\n",
       "      <td>139.199997</td>\n",
       "      <td>136.289993</td>\n",
       "      <td>137.779999</td>\n",
       "      <td>136.229080</td>\n",
       "      <td>18697000</td>\n",
       "    </tr>\n",
       "    <tr>\n",
       "      <th>16</th>\n",
       "      <td>2019-08-23</td>\n",
       "      <td>137.190002</td>\n",
       "      <td>138.350006</td>\n",
       "      <td>132.800003</td>\n",
       "      <td>133.389999</td>\n",
       "      <td>131.888504</td>\n",
       "      <td>38508600</td>\n",
       "    </tr>\n",
       "    <tr>\n",
       "      <th>17</th>\n",
       "      <td>2019-08-26</td>\n",
       "      <td>134.990005</td>\n",
       "      <td>135.559998</td>\n",
       "      <td>133.899994</td>\n",
       "      <td>135.449997</td>\n",
       "      <td>133.925323</td>\n",
       "      <td>20312600</td>\n",
       "    </tr>\n",
       "    <tr>\n",
       "      <th>18</th>\n",
       "      <td>2019-08-27</td>\n",
       "      <td>136.389999</td>\n",
       "      <td>136.720001</td>\n",
       "      <td>134.660004</td>\n",
       "      <td>135.740005</td>\n",
       "      <td>134.212051</td>\n",
       "      <td>23102100</td>\n",
       "    </tr>\n",
       "    <tr>\n",
       "      <th>19</th>\n",
       "      <td>2019-08-28</td>\n",
       "      <td>134.880005</td>\n",
       "      <td>135.759995</td>\n",
       "      <td>133.550003</td>\n",
       "      <td>135.559998</td>\n",
       "      <td>134.034073</td>\n",
       "      <td>17393300</td>\n",
       "    </tr>\n",
       "    <tr>\n",
       "      <th>20</th>\n",
       "      <td>2019-08-29</td>\n",
       "      <td>137.250000</td>\n",
       "      <td>138.440002</td>\n",
       "      <td>136.910004</td>\n",
       "      <td>138.119995</td>\n",
       "      <td>136.565262</td>\n",
       "      <td>20168700</td>\n",
       "    </tr>\n",
       "    <tr>\n",
       "      <th>21</th>\n",
       "      <td>2019-08-30</td>\n",
       "      <td>139.149994</td>\n",
       "      <td>139.179993</td>\n",
       "      <td>136.270004</td>\n",
       "      <td>137.860001</td>\n",
       "      <td>136.308212</td>\n",
       "      <td>23940100</td>\n",
       "    </tr>\n",
       "  </tbody>\n",
       "</table>\n",
       "</div>"
      ],
      "text/plain": [
       "          Date        Open        High         Low       Close   Adj Close  \\\n",
       "0   2019-08-01  137.000000  140.940002  136.929993  138.059998  136.052872   \n",
       "1   2019-08-02  138.089996  138.320007  135.259995  136.899994  134.909729   \n",
       "2   2019-08-05  133.300003  133.929993  130.779999  132.210007  130.287949   \n",
       "3   2019-08-06  133.800003  135.679993  133.210007  134.690002  132.731888   \n",
       "4   2019-08-07  133.789993  135.649994  131.830002  135.279999  133.313278   \n",
       "5   2019-08-08  136.600006  138.990005  135.929993  138.889999  136.870834   \n",
       "6   2019-08-09  138.610001  139.380005  136.460007  137.710007  135.707993   \n",
       "7   2019-08-12  137.070007  137.860001  135.240005  135.789993  133.815887   \n",
       "8   2019-08-13  136.050003  138.800003  135.000000  138.600006  136.585052   \n",
       "9   2019-08-14  136.360001  136.919998  133.669998  133.979996  132.471863   \n",
       "10  2019-08-15  134.389999  134.580002  132.250000  133.679993  132.175247   \n",
       "11  2019-08-16  134.880005  136.460007  134.720001  136.130005  134.597687   \n",
       "12  2019-08-19  137.850006  138.550003  136.889999  138.410004  136.852020   \n",
       "13  2019-08-20  138.210007  138.710007  137.240005  137.259995  135.714951   \n",
       "14  2019-08-21  138.550003  139.490005  138.000000  138.789993  137.227707   \n",
       "15  2019-08-22  138.660004  139.199997  136.289993  137.779999  136.229080   \n",
       "16  2019-08-23  137.190002  138.350006  132.800003  133.389999  131.888504   \n",
       "17  2019-08-26  134.990005  135.559998  133.899994  135.449997  133.925323   \n",
       "18  2019-08-27  136.389999  136.720001  134.660004  135.740005  134.212051   \n",
       "19  2019-08-28  134.880005  135.759995  133.550003  135.559998  134.034073   \n",
       "20  2019-08-29  137.250000  138.440002  136.910004  138.119995  136.565262   \n",
       "21  2019-08-30  139.149994  139.179993  136.270004  137.860001  136.308212   \n",
       "\n",
       "      Volume  \n",
       "0   40557500  \n",
       "1   30791600  \n",
       "2   42749600  \n",
       "3   32696700  \n",
       "4   33414500  \n",
       "5   27496500  \n",
       "6   23466700  \n",
       "7   20476600  \n",
       "8   25154600  \n",
       "9   32527300  \n",
       "10  28074400  \n",
       "11  24449100  \n",
       "12  24355700  \n",
       "13  21170800  \n",
       "14  14970300  \n",
       "15  18697000  \n",
       "16  38508600  \n",
       "17  20312600  \n",
       "18  23102100  \n",
       "19  17393300  \n",
       "20  20168700  \n",
       "21  23940100  "
      ]
     },
     "execution_count": 27,
     "metadata": {},
     "output_type": "execute_result"
    }
   ],
   "source": [
    "# Getting the real stock price for July 31st 2009 - \n",
    "# July 31st 2019\n",
    "dataset_test = pd.read_csv('Microsoft_Stock_Price_Test.csv')\n",
    "dataset_test"
   ]
  },
  {
   "cell_type": "code",
   "execution_count": 28,
   "metadata": {},
   "outputs": [
    {
     "data": {
      "text/plain": [
       "22"
      ]
     },
     "execution_count": 28,
     "metadata": {},
     "output_type": "execute_result"
    }
   ],
   "source": [
    "real_stock_price = dataset_test.iloc[:, 1:2].values\n",
    "real_stock_price.size"
   ]
  },
  {
   "cell_type": "code",
   "execution_count": 29,
   "metadata": {},
   "outputs": [
    {
     "data": {
      "text/plain": [
       "array([[137.      ],\n",
       "       [138.089996],\n",
       "       [133.300003],\n",
       "       [133.800003],\n",
       "       [133.789993],\n",
       "       [136.600006],\n",
       "       [138.610001],\n",
       "       [137.070007],\n",
       "       [136.050003],\n",
       "       [136.360001],\n",
       "       [134.389999],\n",
       "       [134.880005],\n",
       "       [137.850006],\n",
       "       [138.210007],\n",
       "       [138.550003],\n",
       "       [138.660004],\n",
       "       [137.190002],\n",
       "       [134.990005],\n",
       "       [136.389999],\n",
       "       [134.880005],\n",
       "       [137.25    ],\n",
       "       [139.149994]])"
      ]
     },
     "execution_count": 29,
     "metadata": {},
     "output_type": "execute_result"
    }
   ],
   "source": [
    "real_stock_price"
   ]
  },
  {
   "cell_type": "code",
   "execution_count": 30,
   "metadata": {},
   "outputs": [],
   "source": [
    "# Getting the predicted stock price of 2019\n",
    "\n",
    "# axis = 0 means concatenate the lines (i.e. vertical axis)\n",
    "dataset_total = pd.concat((dataset_train['Open'], dataset_test['Open']), axis = 0) "
   ]
  },
  {
   "cell_type": "code",
   "execution_count": 31,
   "metadata": {},
   "outputs": [
    {
     "data": {
      "text/plain": [
       "2559"
      ]
     },
     "execution_count": 31,
     "metadata": {},
     "output_type": "execute_result"
    }
   ],
   "source": [
    "dataset_total.size\n"
   ]
  },
  {
   "cell_type": "code",
   "execution_count": 32,
   "metadata": {},
   "outputs": [],
   "source": [
    "# the difference in the length of the first two gives us \n",
    "# the first day in 2019, and we need to go back 90 days to get the necessary range\n",
    "inputs = dataset_total[len(dataset_total) - len(dataset_test) - 90:].values"
   ]
  },
  {
   "cell_type": "code",
   "execution_count": 33,
   "metadata": {},
   "outputs": [
    {
     "data": {
      "text/plain": [
       "112"
      ]
     },
     "execution_count": 33,
     "metadata": {},
     "output_type": "execute_result"
    }
   ],
   "source": [
    "inputs.size"
   ]
  },
  {
   "cell_type": "code",
   "execution_count": 34,
   "metadata": {},
   "outputs": [],
   "source": [
    "# we did not use iloc from panda so lets reshape the numpy array for \n",
    "# compatibility: i.e. all the values from input lines to be stacked in one \n",
    "# column. The -1 means that the numpy has no knowledge of how the \n",
    "# values were stored in lines. The 1 means we want to them in one \n",
    "# column.\n",
    "\n",
    "inputs = inputs.reshape(-1,1) \n",
    "\n",
    "# apply the feature scaler\n",
    "inputs = sc.transform(inputs)"
   ]
  },
  {
   "cell_type": "code",
   "execution_count": 35,
   "metadata": {},
   "outputs": [],
   "source": [
    "# Getting the predicted stock price of 2019\n",
    "X_test = []"
   ]
  },
  {
   "cell_type": "code",
   "execution_count": 36,
   "metadata": {},
   "outputs": [],
   "source": [
    "# the first 90 from inputs are from training set; start \n",
    "# from 90 and get the extra 22\n",
    "for i in range(90, 112): \n",
    "    X_test.append(inputs[i-90:i, 0])\n"
   ]
  },
  {
   "cell_type": "code",
   "execution_count": 37,
   "metadata": {},
   "outputs": [],
   "source": [
    "X_test = np.array(X_test) # not 3D structure yet"
   ]
  },
  {
   "cell_type": "code",
   "execution_count": 38,
   "metadata": {},
   "outputs": [],
   "source": [
    "# create a 3D structure\n",
    "X_test = np.reshape(X_test, (X_test.shape[0], X_test.shape[1], 1))"
   ]
  },
  {
   "cell_type": "code",
   "execution_count": 39,
   "metadata": {},
   "outputs": [],
   "source": [
    "predicted_stock_price = regressor.predict(X_test)"
   ]
  },
  {
   "cell_type": "code",
   "execution_count": 40,
   "metadata": {},
   "outputs": [
    {
     "data": {
      "text/plain": [
       "22"
      ]
     },
     "execution_count": 40,
     "metadata": {},
     "output_type": "execute_result"
    }
   ],
   "source": [
    "# need to inverse the scaling to get meaningful predicted stock price # outputs\n",
    "predicted_stock_price = sc.inverse_transform(predicted_stock_price) \n",
    "predicted_stock_price.size"
   ]
  },
  {
   "cell_type": "markdown",
   "metadata": {},
   "source": [
    "### Result Visualization\n"
   ]
  },
  {
   "cell_type": "code",
   "execution_count": 42,
   "metadata": {},
   "outputs": [
    {
     "data": {
      "image/png": "[encoded data removed]",
      "text/plain": [
       "<Figure size 432x288 with 1 Axes>"
      ]
     },
     "metadata": {
      "needs_background": "light"
     },
     "output_type": "display_data"
    }
   ],
   "source": [
    "# Visualising the results\n",
    "\n",
    "plt.plot(real_stock_price, color = 'red', label = 'Real Microsoft Stock Price')\n",
    "\n",
    "plt.plot(predicted_stock_price, color = 'blue', label = 'Predicted Microsoft Stock Price')\n",
    "\n",
    "plt.title('Microsoft Stock Price Prediction')\n",
    "plt.xlabel('Time')\n",
    "plt.ylabel('Microsoft Stock Price')\n",
    "plt.legend()\n",
    "\n",
    "plt.show()"
   ]
  },
  {
   "cell_type": "markdown",
   "metadata": {},
   "source": [
    "The blue line shows the trend of the stock for the month of August 2019. \n",
    "\n",
    "Some observations:\n",
    "- The prediction is far more smoother than the actual stock price.\n",
    "- Some fiddling is required to get a smaller relative error."
   ]
  },
  {
   "cell_type": "markdown",
   "metadata": {},
   "source": [
    "### Compute the RMSE\n",
    "\n",
    "If we need to compute the RMSE for our Stock Price Prediction problerm, we use the real stock rpice and predicted stock price as shown.\n",
    "\n",
    "We can getting a relative error, by dividing this RMSE by the range of the Microsoft Stock Price values of August 2019."
   ]
  },
  {
   "cell_type": "code",
   "execution_count": 43,
   "metadata": {},
   "outputs": [],
   "source": [
    "#import the libraries\n",
    "import math\n",
    "from sklearn.metrics import mean_squared_error"
   ]
  },
  {
   "cell_type": "code",
   "execution_count": 44,
   "metadata": {
    "scrolled": true
   },
   "outputs": [
    {
     "data": {
      "text/plain": [
       "3.248572859963501"
      ]
     },
     "execution_count": 44,
     "metadata": {},
     "output_type": "execute_result"
    }
   ],
   "source": [
    "rmse = math.sqrt( mean_squared_error( real_stock_price[0:22,:], predicted_stock_price))\n",
    "rmse"
   ]
  }
 ],
 "metadata": {
  "kernelspec": {
   "display_name": "Python 3",
   "language": "python",
   "name": "python3"
  },
  "language_info": {
   "codemirror_mode": {
    "name": "ipython",
    "version": 3
   },
   "file_extension": ".py",
   "mimetype": "text/x-python",
   "name": "python",
   "nbconvert_exporter": "python",
   "pygments_lexer": "ipython3",
   "version": "3.8.5"
  }
 },
 "nbformat": 4,
 "nbformat_minor": 2
}
